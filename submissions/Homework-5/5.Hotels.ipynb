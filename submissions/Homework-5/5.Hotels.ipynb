{
 "metadata": {
  "name": "",
  "signature": "sha256:d4287cb4c6ff42193e165cb4b6a99ecc81e4dfce9e3d2f23079851a8b76c5849"
 },
 "nbformat": 3,
 "nbformat_minor": 0,
 "worksheets": [
  {
   "cells": [
    {
     "cell_type": "markdown",
     "metadata": {},
     "source": [
      "(In order to load the stylesheet of this notebook, execute the last code cell in this notebook)"
     ]
    },
    {
     "cell_type": "heading",
     "level": 1,
     "metadata": {},
     "source": [
      "Analyzing hotel ratings on Tripadvisor"
     ]
    },
    {
     "cell_type": "markdown",
     "metadata": {},
     "source": [
      "In this homework we will focus on practicing two techniques: web scraping and regression. For the first part, we will build upon the sample code from the Lecture and attempt to get some basic information for each hotel. Then, we will fit a regression model on this information and try to analyze it.   "
     ]
    },
    {
     "cell_type": "markdown",
     "metadata": {},
     "source": [
      "One of the main disadvantages of scraping a website instead of using an API is that, without any notice, the website may change its layout and render our code useless. Something like that happened in our case. Tripadvisor changed the layout of the buttons that we use to navigate between the different pages of the results. This was the main reason people were having problem with executing the code."
     ]
    },
    {
     "cell_type": "markdown",
     "metadata": {},
     "source": [
      "**Task 1 (20 pts)**\n",
      "\n",
      "The first task of the homework is to fix the scraping code. We basically need to replace the part where we are checking if there is another page and getting its link with new code that reflects the new navigation layout. "
     ]
    },
    {
     "cell_type": "markdown",
     "metadata": {},
     "source": [
      "** Task 2 (30 pts)**\n",
      "\n",
      "Then, for each hotel that our search returns, we will \"click\" (with the code of course) on it and scrape the information below.\n",
      "\n",
      "![Information to be scraped](hotel_info.png)\n",
      "\n",
      "Of course, feel free to collect even more data if you want. "
     ]
    },
    {
     "cell_type": "markdown",
     "metadata": {},
     "source": [
      "** Task 3 (20 pts) **\n",
      "\n",
      "Now, we will use regression to analyze this information. First, we will fit a linear regression model that predicts the average rating. For example, for the hotel above, the average rating is\n",
      "\n",
      "$$ \\text{AVG_SCORE} = \\frac{1*31 + 2*33 + 3*98 + 4*504 + 5*1861}{2527}$$\n",
      "\n",
      "Use the model to analyze the important factors that decide the $\\text{AVG_SCORE}$."
     ]
    },
    {
     "cell_type": "markdown",
     "metadata": {},
     "source": [
      "** Task 4 (30 pts) **\n",
      "\n",
      "Finally, we will use logistic regression to decide if a hotel is _excellent_ or not. We classify a hotel as _excellent_ if more than **60%** of its ratings are 5 stars. This is a binary attribute on which we can fit a logistic regression model. As before, use the model to analyze the data.\n",
      "\n",
      "-------"
     ]
    },
    {
     "cell_type": "markdown",
     "metadata": {},
     "source": [
      "In order to use code from a Python script file, we need to put that file in the same folder as the notebook and import it as a library. Then, we will be able to access it's functions. For example, in the case of the lecture code, we could do the following:\n",
      "\n",
      "``` python\n",
      "import scrape_solution as scrape\n",
      "\n",
      "scrape.get_city_page()\n",
      "```\n",
      "\n",
      "Of course, you might need to modify and restructure the code so that it returns what you need."
     ]
    },
    {
     "cell_type": "markdown",
     "metadata": {},
     "source": [
      "----"
     ]
    },
    {
     "cell_type": "code",
     "collapsed": false,
     "input": [
      "import requests\n",
      "from BeautifulSoup import BeautifulSoup\n",
      "import pandas as pd\n",
      "import numpy as np\n",
      "import time\n",
      "import statsmodels.api as sm\n",
      "import numpy as np"
     ],
     "language": "python",
     "metadata": {},
     "outputs": [],
     "prompt_number": 2
    },
    {
     "cell_type": "code",
     "collapsed": false,
     "input": [
      "base_url = \"http://www.tripadvisor.com/\"\n",
      "user_agent = \"Mozilla/5.0 (Macintosh; Intel Mac OS X 10_10_2) AppleWebKit/537.36 (KHTML, like Gecko) Chrome/41.0.2272.76 Safari/537.36\"\n",
      "\n",
      "def get_city_page(city, state):\n",
      "    # Build the request URL\n",
      "    url = base_url + \"city=\" + city + \"&state=\" + state\n",
      "    # Request the HTML page\n",
      "    headers = {'User-Agent': user_agent}\n",
      "    response = requests.get(url, headers=headers)\n",
      "    html = response.text.encode('utf-8')\n",
      "    soup = BeautifulSoup(html)\n",
      "    li = soup.find(\"li\", {\"class\": \"hotels twoLines\"})\n",
      "    city_url = li.find('a', href=True)\n",
      "    return city_url['href']\n",
      "\n",
      "\n",
      "def get_hotellist_page(city_url,city):\n",
      "    url = base_url + city_url\n",
      "    # Sleep 2 sec before starting a new http request\n",
      "    time.sleep(2)\n",
      "    # Request page\n",
      "    headers = { 'User-Agent' : user_agent }\n",
      "    response = requests.get(url, headers=headers)\n",
      "    html = response.text.encode('utf-8')\n",
      "    return html\n",
      "\n",
      "\n",
      "def parse_hotellist_page(html,endofpage):\n",
      "    urlList = []\n",
      "    soup = BeautifulSoup(html)\n",
      "    # Extract hotel url, star rating and number of reviews\n",
      "    hotel_boxes = soup.findAll('div', {'class' :'listing easyClear  p13n_imperfect'})\n",
      "    if not hotel_boxes:\n",
      "        hotel_boxes = soup.findAll('div', {'class' :'listing_info jfy'})\n",
      "    if not hotel_boxes:\n",
      "        hotel_boxes = soup.findAll('div', {'class' :'listing wrap reasoning_v5_wrap jfy_listing p13n_imperfect'})\n",
      "        \n",
      "    for hotel_box in hotel_boxes:\n",
      "        href = hotel_box.find('a', {\"target\":\"_blank\"}).get('href').encode('utf-8')\n",
      "        urlList.append(href)\n",
      "        \n",
      "    # Get next URL page if exists, otherwise exit\n",
      "    div = soup.find(\"span\", {\"class\" : \"guiArw pageEndNext\"})\n",
      "    # check if this is the last page\n",
      "    if div is not None:\n",
      "        endofpage = True\n",
      "        city_url = \"\"\n",
      "    # If not, return the url to the next page\n",
      "    else:\n",
      "        city_url = soup.find('a',{'class':'guiArw sprite-pageNext '}).get('href').encode('utf-8')\n",
      "    return (city_url, urlList, endofpage)\n",
      "\n",
      "# def getrateurl(ratingurl,endofratepage):\n",
      "#     url = base_url + ratingurl\n",
      "#     headers = { 'User-Agent' : user_agent }\n",
      "#     response = requests.get(url, headers=headers)\n",
      "#     html = response.text.encode('utf-8')\n",
      "#     soup = BeautifulSoup(html)\n",
      "#     # Get next URL page if exists, otherwise exit\n",
      "#     div = soup.find(\"span\", {\"class\" : \"guiArw pageEndNext\"})\n",
      "#     # check if this is the last page\n",
      "#     if div is not None:\n",
      "#         endofratepage = True\n",
      "#         rateurl = \"\"\n",
      "#     else:\n",
      "#         rateurl = base_url + soup.find('a',{'class':'guiArw sprite-pageNext  pid4181'}).get('href').encode('utf-8')\n",
      "#     return (rateurl, endofratepage)\n",
      "\n",
      "# def findstars(ratingurl):\n",
      "#     headers = {'User-Agent' : user_agent }\n",
      "#     response = requests.get(ratingurl, headers=headers)\n",
      "#     html = response.text.encode('utf-8')\n",
      "#     soup = BeautifulSoup(html)\n",
      "#     fivestar = 0\n",
      "#     ratings = [int(x.find('img').get('alt').split()[0]) for x in soup.findAll('div',{'class':'rating reviewItemInline'})]\n",
      "#     for rate in ratings:\n",
      "#         if rate == 5:\n",
      "#             fivestar += 1\n",
      "#     return fivestar\n",
      "    \n",
      "def getStats(url):\n",
      "    hotelurl = base_url + url\n",
      "    headers = { 'User-Agent' : user_agent }\n",
      "    response = requests.get(hotelurl, headers=headers)\n",
      "    html = response.text.encode('utf-8')\n",
      "    soup = BeautifulSoup(html)\n",
      "    name = soup.find('div',{'class':'warLocName'}).getText()\n",
      "    row = [name]\n",
      "    rate = soup.findAll('span',{'class':'compositeCount'})\n",
      "    row = row + [float(x.getText().replace(',','')) for x in rate]\n",
      "    value = soup.findAll('div',{'class':'value'})\n",
      "    row = row + [float(x.getText().replace(',','')) for x in value]\n",
      "    stars = soup.findAll('div',{'id':'SUMMARYBOX'})\n",
      "    box = soup.findAll('div',{'id':'SUMMARYBOX'})\n",
      "    y = [x.get('alt') for x in stars[0].findAll('img')]\n",
      "    row = row + [float(x.split()[0].replace(',','')) for x in y]\n",
      "    avg = (5*row[1]+4*row[2]+3*row[3]+2*row[4]+row[5])/sum(row[1:6])\n",
      "    row.append(avg)\n",
      "#find if the hotel is excellent, return a binary code\n",
      "#     totalreviews = float(soup.find('h3',{'class':'reviews_header'}).getText().split()[0].replace(',',''))\n",
      "#     endofratepage = False\n",
      "#     num5stars = 0\n",
      "#     ratingurl = hotelurl\n",
      "#     while (not endofratepage):\n",
      "#         num5stars += findstars(ratingurl)\n",
      "#         ratingurl, endofratepage = getrateurl(ratingurl,endofratepage)\n",
      "#     indicator = (num5stars/totalreviews) > 0.6\n",
      "    if row[1]/sum(row[1:6])>0.6:\n",
      "        indicator = 0\n",
      "    else:\n",
      "        indicator = 1\n",
      "    row.append(indicator)\n",
      "    return row\n",
      "# find stats here  \n",
      "    "
     ],
     "language": "python",
     "metadata": {},
     "outputs": [],
     "prompt_number": 98
    },
    {
     "cell_type": "code",
     "collapsed": false,
     "input": [
      "col = ['hotelname','Excellent','Verygood','Average','Poor','Terrible','Families','Couples','Solo','Business','SleepQuality', \n",
      "       'Location','Rooms','Service','Value','Cleanliness','AveRate','Excellence']\n",
      "df = pd.DataFrame(columns=col)\n",
      "rowCount = 0\n",
      "city = 'Boston'\n",
      "state = 'MA'\n",
      "city_url = get_city_page(city, state)\n",
      "c = 0\n",
      "endofpage = False\n",
      "while(not endofpage):\n",
      "    c += 1\n",
      "    hotellist_html = get_hotellist_page(city_url,city)\n",
      "    city_url, urlList, endofpage = parse_hotellist_page(hotellist_html,endofpage)\n",
      "    for url in urlList:\n",
      "        row = getStats(url)\n",
      "        df.loc[rowCount] = row\n",
      "        rowCount += 1"
     ],
     "language": "python",
     "metadata": {},
     "outputs": [],
     "prompt_number": 99
    },
    {
     "cell_type": "code",
     "collapsed": false,
     "input": [
      "train_cols = ['SleepQuality','Location','Rooms','Service','Value','Cleanliness','AveRate']\n",
      "df[train_cols]=df[train_cols].astype(np.float)\n",
      "df['Excellence']=df['Excellence'].astype(np.int)\n",
      "model = sm.Logit(df['Excellence'],df[train_cols])\n",
      "result = model.fit()\n",
      "print result.summary()"
     ],
     "language": "python",
     "metadata": {},
     "outputs": [
      {
       "output_type": "stream",
       "stream": "stdout",
       "text": [
        "Optimization terminated successfully.\n",
        "         Current function value: 0.292729\n",
        "         Iterations 8\n",
        "                           Logit Regression Results                           \n",
        "==============================================================================\n",
        "Dep. Variable:             Excellence   No. Observations:                   77\n",
        "Model:                          Logit   Df Residuals:                       70\n",
        "Method:                           MLE   Df Model:                            6\n",
        "Date:                Tue, 07 Apr 2015   Pseudo R-squ.:                  0.4617\n",
        "Time:                        02:20:58   Log-Likelihood:                -22.540\n",
        "converged:                       True   LL-Null:                       -41.872\n",
        "                                        LLR p-value:                 8.333e-07\n",
        "================================================================================\n",
        "                   coef    std err          z      P>|z|      [95.0% Conf. Int.]\n",
        "--------------------------------------------------------------------------------\n",
        "SleepQuality     5.1415      1.702      3.021      0.003         1.805     8.478\n",
        "Location         1.2498      1.801      0.694      0.488        -2.280     4.780\n",
        "Rooms            3.8569      2.533      1.523      0.128        -1.108     8.821\n",
        "Service          4.2611      2.300      1.852      0.064        -0.247     8.770\n",
        "Value            2.7768      1.564      1.775      0.076        -0.289     5.842\n",
        "Cleanliness      5.6418      2.224      2.537      0.011         1.283    10.001\n",
        "AveRate        -23.3455      6.159     -3.790      0.000       -35.418   -11.273\n",
        "================================================================================\n"
       ]
      }
     ],
     "prompt_number": 102
    },
    {
     "cell_type": "code",
     "collapsed": false,
     "input": [
      "train_cols = ['SleepQuality','Cleanliness','AveRate']\n",
      "df[train_cols]=df[train_cols].astype(np.float)\n",
      "df['Excellence']=df['Excellence'].astype(np.int)\n",
      "model = sm.Logit(df['Excellence'],df[train_cols])\n",
      "result = model.fit()\n",
      "print result.summary()"
     ],
     "language": "python",
     "metadata": {},
     "outputs": [
      {
       "output_type": "stream",
       "stream": "stdout",
       "text": [
        "Optimization terminated successfully.\n",
        "         Current function value: 0.369499\n",
        "         Iterations 7\n",
        "                           Logit Regression Results                           \n",
        "==============================================================================\n",
        "Dep. Variable:             Excellence   No. Observations:                   77\n",
        "Model:                          Logit   Df Residuals:                       74\n",
        "Method:                           MLE   Df Model:                            2\n",
        "Date:                Tue, 07 Apr 2015   Pseudo R-squ.:                  0.3205\n",
        "Time:                        02:28:12   Log-Likelihood:                -28.451\n",
        "converged:                       True   LL-Null:                       -41.872\n",
        "                                        LLR p-value:                 1.485e-06\n",
        "================================================================================\n",
        "                   coef    std err          z      P>|z|      [95.0% Conf. Int.]\n",
        "--------------------------------------------------------------------------------\n",
        "SleepQuality     4.9145      1.439      3.414      0.001         2.093     7.736\n",
        "Cleanliness      5.5896      1.885      2.965      0.003         1.895     9.284\n",
        "AveRate        -11.0023      2.799     -3.931      0.000       -16.488    -5.516\n",
        "================================================================================\n"
       ]
      }
     ],
     "prompt_number": 106
    },
    {
     "cell_type": "code",
     "collapsed": false,
     "input": [
      "type(model)"
     ],
     "language": "python",
     "metadata": {},
     "outputs": [
      {
       "metadata": {},
       "output_type": "pyout",
       "prompt_number": 71,
       "text": [
        "statsmodels.discrete.discrete_model.Logit"
       ]
      }
     ],
     "prompt_number": 71
    },
    {
     "cell_type": "heading",
     "level": 2,
     "metadata": {},
     "source": [
      "Since we know our goal is to train a logistic regression model, we don't need to run cross validation to find a best model.\n",
      "In intuition, people we left text reviews are those who have the motivation to take such an action, normally because they'd\n",
      "received very good or very bad service. Including the number of reviews is intuitively unreasonable, Unless we can classify\n",
      "those reviews into some emotional labels such as 'happy','angry' and 'whatever...'.\n",
      "Traveler rating and rating summary from users more directly reflect the overall quality of the hotel. Hence, the model above\n",
      "was built upon those information as trainining set."
     ]
    },
    {
     "cell_type": "heading",
     "level": 2,
     "metadata": {},
     "source": [
      "Based on the first observation, I further excluded the 'rooms', 'Service' and 'Value' as their p-value is over a classical\n",
      "statistical threshold: 0.05.\n",
      "This idea can be supported by pseudo R-squared as a value between 0.2 - 0.4 is considered highly satisfacotry.\n",
      "We see that the first pseudo R-squared is slight above 0.4 while the second one is in the [0.2,0.4]"
     ]
    },
    {
     "cell_type": "code",
     "collapsed": false,
     "input": [
      "# Code for setting the style of the notebook\n",
      "from IPython.core.display import HTML\n",
      "def css_styling():\n",
      "    styles = open(\"../../theme/custom.css\", \"r\").read()\n",
      "    return HTML(styles)\n",
      "css_styling()"
     ],
     "language": "python",
     "metadata": {},
     "outputs": [
      {
       "html": [
        "<link href='http://fonts.googleapis.com/css?family=EB+Garamond' rel='stylesheet' type='text/css'>\n",
        "<link href='http://fonts.googleapis.com/css?family=Alegreya+Sans:100,300,400,500,700,800,900,100italic,300italic,400italic,500italic,700italic,800italic,900italic' rel='stylesheet' type='text/css'>\n",
        "<link href='http://fonts.googleapis.com/css?family=Source+Code+Pro:300,400' rel='stylesheet' type='text/css'>\n",
        "<style>\n",
        "    @font-face {\n",
        "        font-family: \"Computer Modern\";\n",
        "        src: url('http://mirrors.ctan.org/fonts/cm-unicode/fonts/otf/cmunss.otf');\n",
        "    }\n",
        "    .code_cell {\n",
        "        width: 105ex !important ;\n",
        "        margin-bottom: 15px !important;\n",
        "    }\n",
        "    div.cell {\n",
        "        margin-left: auto;\n",
        "        margin-right: auto;\n",
        "        width: 70%;\n",
        "    }    \n",
        "    div.cell.selected {\n",
        "        border: thin rgba(171, 171, 171, 0.5) dashed;\n",
        "    }\n",
        "    h1 {\n",
        "        font-family: 'Alegreya Sans', sans-serif;\n",
        "    }\n",
        "    h2 {\n",
        "        font-family: 'EB Garamond', serif;\n",
        "    }\n",
        "    h3 {\n",
        "        font-family: 'EB Garamond', serif;\n",
        "        margin-top:12px;\n",
        "        margin-bottom: 3px;\n",
        "    }\n",
        "    h4 {\n",
        "        font-family: 'EB Garamond', serif;\n",
        "    }\n",
        "    h5 {\n",
        "        font-family: 'Alegreya Sans', sans-serif;\n",
        "    }\n",
        "    div.text_cell_render {\n",
        "        font-family: 'EB Garamond',Computer Modern, \"Helvetica Neue\", Arial, Helvetica, Geneva, sans-serif;\n",
        "        line-height: 145%;\n",
        "        font-size: 140%;\n",
        "    }\n",
        "    div.input_area {\n",
        "        border-color: rgba(0,0,0,0.10) !important;\n",
        "        background: #fafafa;\n",
        "    }\n",
        "    .CodeMirror {\n",
        "            font-family: \"Source Code Pro\";\n",
        "            font-size: 90%;\n",
        "    }\n",
        "    .prompt {\n",
        "        display: None;\n",
        "    }\n",
        "    .output {\n",
        "        padding-left: 50px;\n",
        "        padding-top: 5px;\n",
        "    }\n",
        "    .output_wrapper {\n",
        "        padding-left: 5px;\n",
        "        padding-top: inherit;\n",
        "    }\n",
        "    div.output_scroll {\n",
        "        width: inherit;\n",
        "    }\n",
        "    .inner_cell {\n",
        "        padding-left: 5px;\n",
        "    }\n",
        "    .text_cell_render h1 {\n",
        "        font-weight: 200;\n",
        "        font-size: 50pt;\n",
        "        line-height: 100%;\n",
        "        color:#CD2305;\n",
        "        margin-bottom: 0.5em;\n",
        "        margin-top: 0.5em;\n",
        "        display: block;\n",
        "    }\n",
        "    .text_cell_render h5 {\n",
        "        font-weight: 300;\n",
        "        font-size: 16pt;\n",
        "        color: #CD2305;\n",
        "        font-style: italic;\n",
        "        margin-bottom: .5em;\n",
        "        margin-top: 0.5em;\n",
        "        display: block;\n",
        "    }\n",
        "    .warning {\n",
        "        color: rgb( 240, 20, 20 )\n",
        "        }  \n",
        "</style>\n",
        "<script>\n",
        "    MathJax.Hub.Config({\n",
        "                        TeX: {\n",
        "                           extensions: [\"AMSmath.js\"]\n",
        "                           },\n",
        "                tex2jax: {\n",
        "                    inlineMath: [ ['$','$'], [\"\\\\(\",\"\\\\)\"] ],\n",
        "                    displayMath: [ ['$$','$$'], [\"\\\\[\",\"\\\\]\"] ]\n",
        "                },\n",
        "                displayAlign: 'center', // Change this to 'center' to center equations.\n",
        "                \"HTML-CSS\": {\n",
        "                    styles: {'.MathJax_Display': {\"margin\": 4}}\n",
        "                }\n",
        "        });\n",
        "</script>"
       ],
       "metadata": {},
       "output_type": "pyout",
       "prompt_number": 2,
       "text": [
        "<IPython.core.display.HTML at 0x3a6e978>"
       ]
      }
     ],
     "prompt_number": 2
    }
   ],
   "metadata": {}
  }
 ]
}