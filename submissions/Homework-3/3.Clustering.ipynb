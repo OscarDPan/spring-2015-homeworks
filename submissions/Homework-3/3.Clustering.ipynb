{
 "metadata": {
  "name": "",
  "signature": "sha256:a82b5ee738e386904e7565fcae7a39117ebf050f4b1c6f0cced9a5b6007bde06"
 },
 "nbformat": 3,
 "nbformat_minor": 0,
 "worksheets": [
  {
   "cells": [
    {
     "cell_type": "markdown",
     "metadata": {},
     "source": [
      "(In order to load the stylesheet of this notebook, execute the last code cell in this notebook)"
     ]
    },
    {
     "cell_type": "heading",
     "level": 1,
     "metadata": {},
     "source": [
      "Clustering the data from the Mayor's 24-hour hotline in Boston"
     ]
    },
    {
     "cell_type": "heading",
     "level": 2,
     "metadata": {},
     "source": [
      "Introduction "
     ]
    },
    {
     "cell_type": "markdown",
     "metadata": {},
     "source": [
      "In this assignment, we will do a clustering analysis on the 311 calls that we used in the previous homework. We will focus on choosing a value for k, clustering based on multiple features and detecting outliers.\n",
      "\n",
      "---------------------------"
     ]
    },
    {
     "cell_type": "code",
     "collapsed": false,
     "input": [
      "%matplotlib inline\n",
      "import pandas as pd\n",
      "import seaborn as sns\n",
      "from matplotlib import pyplot as plt\n",
      "from sklearn.preprocessing import StandardScaler as Stdscl\n",
      "import sklearn.metrics as metrics\n",
      "from sklearn.cluster import KMeans\n",
      "import numpy as np"
     ],
     "language": "python",
     "metadata": {},
     "outputs": [],
     "prompt_number": 7
    },
    {
     "cell_type": "code",
     "collapsed": false,
     "input": [
      "boston = pd.read_csv('../Homework-2/cases_2015.csv')"
     ],
     "language": "python",
     "metadata": {},
     "outputs": [],
     "prompt_number": 35
    },
    {
     "cell_type": "heading",
     "level": 2,
     "metadata": {},
     "source": [
      "Step 1. Simple clustering"
     ]
    },
    {
     "cell_type": "markdown",
     "metadata": {},
     "source": [
      "The first thing that we will try is to cluster the geolocation data of the calls. The geolocation of a record consists of a pair `(latitude, longitude)`, which represents the position of the record on the map. Since the dataset that we have spans only a small geographic location, i.e. Boston, we will use the Euclidean distance when measuring how close two points are. Techinically, we should pick a [projection](https://github.com/mbostock/d3/wiki/Geo-Projections) in order to transform the data into 2d, and measure  the Euclidean distance in the projected space."
     ]
    },
    {
     "cell_type": "markdown",
     "metadata": {},
     "source": [
      "Since we are dealing with numeric data, we might consider centering and normalizing them. In order to do that, check the [StandardScaler](http://scikit-learn.org/stable/modules/generated/sklearn.preprocessing.StandardScaler.html#sklearn.preprocessing.StandardScaler) from `scikit-learn`."
     ]
    },
    {
     "cell_type": "markdown",
     "metadata": {},
     "source": [
      "For exampe, the result of a clustering with 10 clusters is the following:\n",
      "\n",
      "\n",
      "![A clustering of the locations of the calls for k=10](clusters10.png)"
     ]
    },
    {
     "cell_type": "markdown",
     "metadata": {},
     "source": [
      "Filter the dataset to get the latitude and longitude, transform it as required and run the k-means clustering algorithm. Argue about the number of clusters you used. **(pts 50)**"
     ]
    },
    {
     "cell_type": "heading",
     "level": 2,
     "metadata": {},
     "source": [
      "I wanted to use the Silhouette Coefficient, however it seemed my computer was not powerful engouh and resulted in a dead kernel.\n",
      "But I believe calculating Silhouette Coefficient can give me a better insight about the clustering."
     ]
    },
    {
     "cell_type": "code",
     "collapsed": false,
     "input": [
      "X = boston.as_matrix(columns = ('LATITUDE', 'LONGITUDE'))\n",
      "X = Stdscl().fit_transform(X)\n",
      "def evaluate_clusters(X,max_clusters):\n",
      "    error = np.zeros(max_clusters+1)\n",
      "    error[0] = 0\n",
      "    error[1] = 0\n",
      "    for k in range(2,max_clusters+1):\n",
      "        kmeans = KMeans(init='k-means++', n_clusters=k, n_init=10)\n",
      "        kmeans.fit_predict(X)\n",
      "        error[k] = kmeans.inertia_\n",
      "\n",
      "    plt.plot(range(2,len(error)),error[2:])\n",
      "    plt.xlabel('Number of clusters')\n",
      "    plt.ylabel('Error')\n",
      "    return error\n",
      "errors = evaluate_clusters(X,20)\n",
      "\n"
     ],
     "language": "python",
     "metadata": {},
     "outputs": [
      {
       "metadata": {},
       "output_type": "display_data",
       "png": "[encoded data removed]",
       "text": [
        "<matplotlib.figure.Figure at 0x10498a650>"
       ]
      }
     ],
     "prompt_number": 12
    },
    {
     "cell_type": "code",
     "collapsed": false,
     "input": [
      "print errors"
     ],
     "language": "python",
     "metadata": {},
     "outputs": [
      {
       "output_type": "stream",
       "stream": "stdout",
       "text": [
        "[     0.              0.          48237.4410502   32112.54132018\n",
        "  21165.25043079  16350.56056063  13608.933765    11382.7855374\n",
        "   9628.19057479   7814.56390597   6837.87405384   5932.71431218\n",
        "   5275.48850745   4891.64166746   4480.86501379   4102.19263476\n",
        "   3762.99362089   3455.28641632   3180.65948491   3079.79235428\n",
        "   2826.34606123]\n"
       ]
      }
     ],
     "prompt_number": 13
    },
    {
     "cell_type": "heading",
     "level": 3,
     "metadata": {},
     "source": [
      "By looking at the errors of K++ is inconclusive. However, 9 clusters seems to be the last 'infection point' in the 20-clusters\n",
      "error graph"
     ]
    },
    {
     "cell_type": "heading",
     "level": 2,
     "metadata": {},
     "source": [
      "Step 2. Using multiple features"
     ]
    },
    {
     "cell_type": "markdown",
     "metadata": {},
     "source": [
      "The next step in our analysis is to use more features than just the geolocation of a record (whose clustering only gives us information about the neighborhoods, which should not be a huge revelation!) Filter the dataset to get more features, transform them as required and compute another clustering. You should argue about the quality of your clustering and use domain knowledge (i.e. the fact that you are locals) to explore the clusters you produced and present them to the reader. **(pts 30)**"
     ]
    },
    {
     "cell_type": "code",
     "collapsed": false,
     "input": [
      "from sklearn.preprocessing import LabelEncoder\n",
      "from sklearn.preprocessing import OneHotEncoder\n",
      "boston = pd.read_csv('../Homework-2/cases_2015.csv')\n",
      "boston = boston.fillna(0)\n",
      "groups = []\n",
      "category = 'LOCATION_ZIPCODE'\n",
      "for group, groupdata in boston.groupby(category):\n",
      "    groups.append(group)\n",
      "le = LabelEncoder()\n",
      "en = OneHotEncoder()\n",
      "le.fit(groups)\n",
      "encodedList = le.transform(boston[category].tolist())\n",
      "en.fit([[i] for i in encodedList])\n",
      "finalList = en.transform([[i] for i in encodedList]).toarray()\n",
      "newX = np.concatenate((finalList, X), axis=1)\n",
      "newX[0]\n",
      "errors = evaluate_clusters(newX,35)"
     ],
     "language": "python",
     "metadata": {},
     "outputs": [
      {
       "metadata": {},
       "output_type": "display_data",
       "png": "[encoded data removed]",
       "text": [
        "<matplotlib.figure.Figure at 0x11ba4add0>"
       ]
      }
     ],
     "prompt_number": 195
    },
    {
     "cell_type": "heading",
     "level": 3,
     "metadata": {},
     "source": [
      "I tried to combine different features with longitude and Latitude by useing LabelEncoder and OneHotEncoder. It seems that\n",
      "clusters = 4 is the only 'inflection point' that is consistent throughtout all combinations of features. The graph depicted above is from a combination of (LOCATION_ZIPCODE, LONGITUDE, LATITUDE)."
     ]
    },
    {
     "cell_type": "heading",
     "level": 2,
     "metadata": {},
     "source": [
      "Step 3. Detecting outliers"
     ]
    },
    {
     "cell_type": "markdown",
     "metadata": {},
     "source": [
      "Now that we have a clustering of the records in the dataset, we can detect the outlying ones. These are the ones who are the farthest from the centroids of their clusters. Track them down and describe any interesting observations that you can make. **(pts 20)** "
     ]
    },
    {
     "cell_type": "code",
     "collapsed": false,
     "input": [
      "kmeans = KMeans(init='k-means++', n_clusters=4, n_init=10)\n",
      "kmeans.fit_predict(X)\n",
      "centers = kmeans.cluster_centers_\n",
      "# print centers\n",
      "for i in range(4):\n",
      "    errorTemp = metrics.euclidean_distances(centers[0,:],X[kmeans.labels_==i])\n",
      "    maxError = max(errorTemp.tolist())\n",
      "    maxIndex = errorTemp.tolist().index(maxError)\n",
      "    print '\\n Outlier of cluster '+str(i)\n",
      "    print boston[kmeans.labels_==i].as_matrix()[maxIndex,:]\n",
      "    "
     ],
     "language": "python",
     "metadata": {},
     "outputs": [
      {
       "output_type": "stream",
       "stream": "stdout",
       "text": [
        "\n",
        " Outlier of cluster 0\n",
        "[101001240735 '2015-01-01 00:25:23' '2015-01-16 08:30:00'\n",
        " '2015-01-02 16:17:43' 'ONTIME' 'Closed'\n",
        " 'Case Closed Duplicate of Existing Case duplicate of existing w/o'\n",
        " 'PRINTED' 'Public Works Department' 'Street Lights' 'Street Light Outages'\n",
        " 'PWDx_Street Light Outages' 'PWDx' 0 0\n",
        " '145-151 Ipswich St  Boston  MA  02215' 4.0 '10A' 8.0 'D4'\n",
        " 'Fenway / Kenmore / Audubon Circle / Longwood' 14.0 'Ward 5' 502.0 'C'\n",
        " '145-151 Ipswich St' 2215.0 'Address' 157262.0 42.3474 -71.0944\n",
        " 'Citizens Connect App' '(42.3474, -71.0944)']\n",
        "\n",
        " Outlier of cluster 1\n",
        "[101001240734 '2015-01-01 00:20:09' 0 '2015-01-02 09:08:42' 'ONTIME'\n",
        " 'Closed' 'Case Closed Case Noted' 'Other' \"Mayor's 24 Hour Hotline\"\n",
        " 'Notification' 'Notification' 'INFO09_Current Events' 'INFO' 0 0\n",
        " '33 Beacon St  Boston  MA  02108' 3.0 '1B' 8.0 'A1'\n",
        " 'Downtown / Financial District' 14.0 'Ward 5' 503.0 'E' '33 Beacon St'\n",
        " 2108.0 'Address' 11072.0 42.3574 -71.0648 'Constituent Call'\n",
        " '(42.3574, -71.0648)']"
       ]
      },
      {
       "output_type": "stream",
       "stream": "stdout",
       "text": [
        "\n",
        "\n",
        " Outlier of cluster 2\n",
        "[101001240740 '2015-01-01 01:45:37' 0 0 'ONTIME' 'Open' 0 'Animal Found'\n",
        " 'Animal Control' 'Animal Issues' 'Animal Found' 'ANML02_LostFound' 'ANML'\n",
        " 0 0 '4833 Washington St  West Roxbury  MA  02132' 12.0 '06' 6.0 'E5'\n",
        " 'West Roxbury' 12.0 'Ward 20' 2010.0 'R4' '4833 Washington St' 2132.0\n",
        " 'Address' 331760.0 42.2711 -71.1464 'Constituent Call'\n",
        " '(42.2711, -71.1464)']\n",
        "\n",
        " Outlier of cluster 3\n",
        "[101001240742 '2015-01-01 02:24:59' 0 '2015-01-02 09:09:00' 'ONTIME'\n",
        " 'Closed' 'Case Closed Case Noted' 'Fire' \"Mayor's 24 Hour Hotline\"\n",
        " 'Notification' 'Notification' 'INFO09_Current Events' 'INFO' 0 0\n",
        " '10 Washburn St  Dorchester  MA  02125' 6.0 '03' 2.0 'C6' 'Dorchester' 5.0\n",
        " 'Ward 7' 708.0 'R2' '10 Washburn St' 2125.0 'Address' 143386.0 42.3254\n",
        " -71.0574 'Constituent Call' '(42.3254, -71.0574)']\n"
       ]
      }
     ],
     "prompt_number": 237
    },
    {
     "cell_type": "code",
     "collapsed": false,
     "input": [
      "# Code for setting the style of the notebook\n",
      "from IPython.core.display import HTML\n",
      "def css_styling():\n",
      "    styles = open(\"../../theme/custom.css\", \"r\").read()\n",
      "    return HTML(styles)\n",
      "css_styling()"
     ],
     "language": "python",
     "metadata": {},
     "outputs": [
      {
       "html": [
        "<link href='http://fonts.googleapis.com/css?family=EB+Garamond' rel='stylesheet' type='text/css'>\n",
        "<link href='http://fonts.googleapis.com/css?family=Alegreya+Sans:100,300,400,500,700,800,900,100italic,300italic,400italic,500italic,700italic,800italic,900italic' rel='stylesheet' type='text/css'>\n",
        "<link href='http://fonts.googleapis.com/css?family=Source+Code+Pro:300,400' rel='stylesheet' type='text/css'>\n",
        "<style>\n",
        "    @font-face {\n",
        "        font-family: \"Computer Modern\";\n",
        "        src: url('http://mirrors.ctan.org/fonts/cm-unicode/fonts/otf/cmunss.otf');\n",
        "    }\n",
        "    .code_cell {\n",
        "        width: 105ex !important ;\n",
        "        margin-bottom: 15px !important;\n",
        "    }\n",
        "    div.cell {\n",
        "        margin-left: auto;\n",
        "        margin-right: auto;\n",
        "        width: 70%;\n",
        "    }    \n",
        "    div.cell.selected {\n",
        "        border: thin rgba(171, 171, 171, 0.5) dashed;\n",
        "    }\n",
        "    h1 {\n",
        "        font-family: 'Alegreya Sans', sans-serif;\n",
        "    }\n",
        "    h2 {\n",
        "        font-family: 'EB Garamond', serif;\n",
        "    }\n",
        "    h3 {\n",
        "        font-family: 'EB Garamond', serif;\n",
        "        margin-top:12px;\n",
        "        margin-bottom: 3px;\n",
        "    }\n",
        "    h4 {\n",
        "        font-family: 'EB Garamond', serif;\n",
        "    }\n",
        "    h5 {\n",
        "        font-family: 'Alegreya Sans', sans-serif;\n",
        "    }\n",
        "    div.text_cell_render {\n",
        "        font-family: 'EB Garamond',Computer Modern, \"Helvetica Neue\", Arial, Helvetica, Geneva, sans-serif;\n",
        "        line-height: 145%;\n",
        "        font-size: 140%;\n",
        "    }\n",
        "    div.input_area {\n",
        "        border-color: rgba(0,0,0,0.10) !important;\n",
        "        background: #fafafa;\n",
        "    }\n",
        "    .CodeMirror {\n",
        "            font-family: \"Source Code Pro\";\n",
        "            font-size: 90%;\n",
        "    }\n",
        "    .prompt {\n",
        "        display: None;\n",
        "    }\n",
        "    .output {\n",
        "        padding-left: 50px;\n",
        "        padding-top: 5px;\n",
        "    }\n",
        "    .output_wrapper {\n",
        "        padding-left: 5px;\n",
        "        padding-top: inherit;\n",
        "    }\n",
        "    div.output_scroll {\n",
        "        width: inherit;\n",
        "    }\n",
        "    .inner_cell {\n",
        "        padding-left: 5px;\n",
        "    }\n",
        "    .text_cell_render h1 {\n",
        "        font-weight: 200;\n",
        "        font-size: 50pt;\n",
        "        line-height: 100%;\n",
        "        color:#CD2305;\n",
        "        margin-bottom: 0.5em;\n",
        "        margin-top: 0.5em;\n",
        "        display: block;\n",
        "    }\n",
        "    .text_cell_render h5 {\n",
        "        font-weight: 300;\n",
        "        font-size: 16pt;\n",
        "        color: #CD2305;\n",
        "        font-style: italic;\n",
        "        margin-bottom: .5em;\n",
        "        margin-top: 0.5em;\n",
        "        display: block;\n",
        "    }\n",
        "    .warning {\n",
        "        color: rgb( 240, 20, 20 )\n",
        "        }  \n",
        "</style>\n",
        "<script>\n",
        "    MathJax.Hub.Config({\n",
        "                        TeX: {\n",
        "                           extensions: [\"AMSmath.js\"]\n",
        "                           },\n",
        "                tex2jax: {\n",
        "                    inlineMath: [ ['$','$'], [\"\\\\(\",\"\\\\)\"] ],\n",
        "                    displayMath: [ ['$$','$$'], [\"\\\\[\",\"\\\\]\"] ]\n",
        "                },\n",
        "                displayAlign: 'center', // Change this to 'center' to center equations.\n",
        "                \"HTML-CSS\": {\n",
        "                    styles: {'.MathJax_Display': {\"margin\": 4}}\n",
        "                }\n",
        "        });\n",
        "</script>"
       ],
       "metadata": {},
       "output_type": "pyout",
       "prompt_number": 21,
       "text": [
        "<IPython.core.display.HTML at 0x189e1320>"
       ]
      }
     ],
     "prompt_number": 21
    },
    {
     "cell_type": "code",
     "collapsed": false,
     "input": [],
     "language": "python",
     "metadata": {},
     "outputs": []
    }
   ],
   "metadata": {}
  }
 ]
}